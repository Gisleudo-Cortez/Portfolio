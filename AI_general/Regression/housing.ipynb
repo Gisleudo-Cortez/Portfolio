{
 "cells": [
  {
   "cell_type": "markdown",
   "metadata": {},
   "source": [
    "# Analysing and Creating a model to predict House prices using sklearn housing Dataset"
   ]
  },
  {
   "cell_type": "markdown",
   "metadata": {},
   "source": [
    "* Import necessary modules"
   ]
  },
  {
   "cell_type": "code",
   "execution_count": 2,
   "metadata": {},
   "outputs": [],
   "source": [
    "import pandas as pd\n",
    "import numpy as np\n",
    "import matplotlib.pyplot as plt \n",
    "from sklearn.datasets import fetch_california_housing\n",
    "import sklearn.preprocessing as preprocessing\n",
    "from sklearn.model_selection import train_test_split"
   ]
  },
  {
   "cell_type": "code",
   "execution_count": 3,
   "metadata": {},
   "outputs": [
    {
     "name": "stdout",
     "output_type": "stream",
     "text": [
      "<class 'pandas.core.frame.DataFrame'>\n",
      "RangeIndex: 20640 entries, 0 to 20639\n",
      "Data columns (total 9 columns):\n",
      " #   Column       Non-Null Count  Dtype  \n",
      "---  ------       --------------  -----  \n",
      " 0   MedInc       20640 non-null  float64\n",
      " 1   HouseAge     20640 non-null  float64\n",
      " 2   AveRooms     20640 non-null  float64\n",
      " 3   AveBedrms    20640 non-null  float64\n",
      " 4   Population   20640 non-null  float64\n",
      " 5   AveOccup     20640 non-null  float64\n",
      " 6   Latitude     20640 non-null  float64\n",
      " 7   Longitude    20640 non-null  float64\n",
      " 8   MedHouseVal  20640 non-null  float64\n",
      "dtypes: float64(9)\n",
      "memory usage: 1.4 MB\n"
     ]
    },
    {
     "data": {
      "text/html": [
       "<div>\n",
       "<style scoped>\n",
       "    .dataframe tbody tr th:only-of-type {\n",
       "        vertical-align: middle;\n",
       "    }\n",
       "\n",
       "    .dataframe tbody tr th {\n",
       "        vertical-align: top;\n",
       "    }\n",
       "\n",
       "    .dataframe thead th {\n",
       "        text-align: right;\n",
       "    }\n",
       "</style>\n",
       "<table border=\"1\" class=\"dataframe\">\n",
       "  <thead>\n",
       "    <tr style=\"text-align: right;\">\n",
       "      <th></th>\n",
       "      <th>MedInc</th>\n",
       "      <th>HouseAge</th>\n",
       "      <th>AveRooms</th>\n",
       "      <th>AveBedrms</th>\n",
       "      <th>Population</th>\n",
       "      <th>AveOccup</th>\n",
       "      <th>Latitude</th>\n",
       "      <th>Longitude</th>\n",
       "      <th>MedHouseVal</th>\n",
       "    </tr>\n",
       "  </thead>\n",
       "  <tbody>\n",
       "    <tr>\n",
       "      <th>0</th>\n",
       "      <td>8.3252</td>\n",
       "      <td>41.0</td>\n",
       "      <td>6.984127</td>\n",
       "      <td>1.023810</td>\n",
       "      <td>322.0</td>\n",
       "      <td>2.555556</td>\n",
       "      <td>37.88</td>\n",
       "      <td>-122.23</td>\n",
       "      <td>4.526</td>\n",
       "    </tr>\n",
       "    <tr>\n",
       "      <th>1</th>\n",
       "      <td>8.3014</td>\n",
       "      <td>21.0</td>\n",
       "      <td>6.238137</td>\n",
       "      <td>0.971880</td>\n",
       "      <td>2401.0</td>\n",
       "      <td>2.109842</td>\n",
       "      <td>37.86</td>\n",
       "      <td>-122.22</td>\n",
       "      <td>3.585</td>\n",
       "    </tr>\n",
       "    <tr>\n",
       "      <th>2</th>\n",
       "      <td>7.2574</td>\n",
       "      <td>52.0</td>\n",
       "      <td>8.288136</td>\n",
       "      <td>1.073446</td>\n",
       "      <td>496.0</td>\n",
       "      <td>2.802260</td>\n",
       "      <td>37.85</td>\n",
       "      <td>-122.24</td>\n",
       "      <td>3.521</td>\n",
       "    </tr>\n",
       "    <tr>\n",
       "      <th>3</th>\n",
       "      <td>5.6431</td>\n",
       "      <td>52.0</td>\n",
       "      <td>5.817352</td>\n",
       "      <td>1.073059</td>\n",
       "      <td>558.0</td>\n",
       "      <td>2.547945</td>\n",
       "      <td>37.85</td>\n",
       "      <td>-122.25</td>\n",
       "      <td>3.413</td>\n",
       "    </tr>\n",
       "    <tr>\n",
       "      <th>4</th>\n",
       "      <td>3.8462</td>\n",
       "      <td>52.0</td>\n",
       "      <td>6.281853</td>\n",
       "      <td>1.081081</td>\n",
       "      <td>565.0</td>\n",
       "      <td>2.181467</td>\n",
       "      <td>37.85</td>\n",
       "      <td>-122.25</td>\n",
       "      <td>3.422</td>\n",
       "    </tr>\n",
       "  </tbody>\n",
       "</table>\n",
       "</div>"
      ],
      "text/plain": [
       "   MedInc  HouseAge  AveRooms  AveBedrms  Population  AveOccup  Latitude  \\\n",
       "0  8.3252      41.0  6.984127   1.023810       322.0  2.555556     37.88   \n",
       "1  8.3014      21.0  6.238137   0.971880      2401.0  2.109842     37.86   \n",
       "2  7.2574      52.0  8.288136   1.073446       496.0  2.802260     37.85   \n",
       "3  5.6431      52.0  5.817352   1.073059       558.0  2.547945     37.85   \n",
       "4  3.8462      52.0  6.281853   1.081081       565.0  2.181467     37.85   \n",
       "\n",
       "   Longitude  MedHouseVal  \n",
       "0    -122.23        4.526  \n",
       "1    -122.22        3.585  \n",
       "2    -122.24        3.521  \n",
       "3    -122.25        3.413  \n",
       "4    -122.25        3.422  "
      ]
     },
     "metadata": {},
     "output_type": "display_data"
    },
    {
     "data": {
      "text/plain": [
       "(20640, 9)"
      ]
     },
     "metadata": {},
     "output_type": "display_data"
    },
    {
     "data": {
      "text/html": [
       "<div>\n",
       "<style scoped>\n",
       "    .dataframe tbody tr th:only-of-type {\n",
       "        vertical-align: middle;\n",
       "    }\n",
       "\n",
       "    .dataframe tbody tr th {\n",
       "        vertical-align: top;\n",
       "    }\n",
       "\n",
       "    .dataframe thead th {\n",
       "        text-align: right;\n",
       "    }\n",
       "</style>\n",
       "<table border=\"1\" class=\"dataframe\">\n",
       "  <thead>\n",
       "    <tr style=\"text-align: right;\">\n",
       "      <th></th>\n",
       "      <th>MedInc</th>\n",
       "      <th>HouseAge</th>\n",
       "      <th>AveRooms</th>\n",
       "      <th>AveBedrms</th>\n",
       "      <th>Population</th>\n",
       "      <th>AveOccup</th>\n",
       "      <th>Latitude</th>\n",
       "      <th>Longitude</th>\n",
       "      <th>MedHouseVal</th>\n",
       "    </tr>\n",
       "  </thead>\n",
       "  <tbody>\n",
       "    <tr>\n",
       "      <th>count</th>\n",
       "      <td>20640.000000</td>\n",
       "      <td>20640.000000</td>\n",
       "      <td>20640.000000</td>\n",
       "      <td>20640.000000</td>\n",
       "      <td>20640.000000</td>\n",
       "      <td>20640.000000</td>\n",
       "      <td>20640.000000</td>\n",
       "      <td>20640.000000</td>\n",
       "      <td>20640.000000</td>\n",
       "    </tr>\n",
       "    <tr>\n",
       "      <th>mean</th>\n",
       "      <td>3.870671</td>\n",
       "      <td>28.639486</td>\n",
       "      <td>5.429000</td>\n",
       "      <td>1.096675</td>\n",
       "      <td>1425.476744</td>\n",
       "      <td>3.070655</td>\n",
       "      <td>35.631861</td>\n",
       "      <td>-119.569704</td>\n",
       "      <td>2.068558</td>\n",
       "    </tr>\n",
       "    <tr>\n",
       "      <th>std</th>\n",
       "      <td>1.899822</td>\n",
       "      <td>12.585558</td>\n",
       "      <td>2.474173</td>\n",
       "      <td>0.473911</td>\n",
       "      <td>1132.462122</td>\n",
       "      <td>10.386050</td>\n",
       "      <td>2.135952</td>\n",
       "      <td>2.003532</td>\n",
       "      <td>1.153956</td>\n",
       "    </tr>\n",
       "    <tr>\n",
       "      <th>min</th>\n",
       "      <td>0.499900</td>\n",
       "      <td>1.000000</td>\n",
       "      <td>0.846154</td>\n",
       "      <td>0.333333</td>\n",
       "      <td>3.000000</td>\n",
       "      <td>0.692308</td>\n",
       "      <td>32.540000</td>\n",
       "      <td>-124.350000</td>\n",
       "      <td>0.149990</td>\n",
       "    </tr>\n",
       "    <tr>\n",
       "      <th>25%</th>\n",
       "      <td>2.563400</td>\n",
       "      <td>18.000000</td>\n",
       "      <td>4.440716</td>\n",
       "      <td>1.006079</td>\n",
       "      <td>787.000000</td>\n",
       "      <td>2.429741</td>\n",
       "      <td>33.930000</td>\n",
       "      <td>-121.800000</td>\n",
       "      <td>1.196000</td>\n",
       "    </tr>\n",
       "    <tr>\n",
       "      <th>50%</th>\n",
       "      <td>3.534800</td>\n",
       "      <td>29.000000</td>\n",
       "      <td>5.229129</td>\n",
       "      <td>1.048780</td>\n",
       "      <td>1166.000000</td>\n",
       "      <td>2.818116</td>\n",
       "      <td>34.260000</td>\n",
       "      <td>-118.490000</td>\n",
       "      <td>1.797000</td>\n",
       "    </tr>\n",
       "    <tr>\n",
       "      <th>75%</th>\n",
       "      <td>4.743250</td>\n",
       "      <td>37.000000</td>\n",
       "      <td>6.052381</td>\n",
       "      <td>1.099526</td>\n",
       "      <td>1725.000000</td>\n",
       "      <td>3.282261</td>\n",
       "      <td>37.710000</td>\n",
       "      <td>-118.010000</td>\n",
       "      <td>2.647250</td>\n",
       "    </tr>\n",
       "    <tr>\n",
       "      <th>max</th>\n",
       "      <td>15.000100</td>\n",
       "      <td>52.000000</td>\n",
       "      <td>141.909091</td>\n",
       "      <td>34.066667</td>\n",
       "      <td>35682.000000</td>\n",
       "      <td>1243.333333</td>\n",
       "      <td>41.950000</td>\n",
       "      <td>-114.310000</td>\n",
       "      <td>5.000010</td>\n",
       "    </tr>\n",
       "  </tbody>\n",
       "</table>\n",
       "</div>"
      ],
      "text/plain": [
       "             MedInc      HouseAge      AveRooms     AveBedrms    Population  \\\n",
       "count  20640.000000  20640.000000  20640.000000  20640.000000  20640.000000   \n",
       "mean       3.870671     28.639486      5.429000      1.096675   1425.476744   \n",
       "std        1.899822     12.585558      2.474173      0.473911   1132.462122   \n",
       "min        0.499900      1.000000      0.846154      0.333333      3.000000   \n",
       "25%        2.563400     18.000000      4.440716      1.006079    787.000000   \n",
       "50%        3.534800     29.000000      5.229129      1.048780   1166.000000   \n",
       "75%        4.743250     37.000000      6.052381      1.099526   1725.000000   \n",
       "max       15.000100     52.000000    141.909091     34.066667  35682.000000   \n",
       "\n",
       "           AveOccup      Latitude     Longitude   MedHouseVal  \n",
       "count  20640.000000  20640.000000  20640.000000  20640.000000  \n",
       "mean       3.070655     35.631861   -119.569704      2.068558  \n",
       "std       10.386050      2.135952      2.003532      1.153956  \n",
       "min        0.692308     32.540000   -124.350000      0.149990  \n",
       "25%        2.429741     33.930000   -121.800000      1.196000  \n",
       "50%        2.818116     34.260000   -118.490000      1.797000  \n",
       "75%        3.282261     37.710000   -118.010000      2.647250  \n",
       "max     1243.333333     41.950000   -114.310000      5.000010  "
      ]
     },
     "metadata": {},
     "output_type": "display_data"
    },
    {
     "data": {
      "text/plain": [
       "None"
      ]
     },
     "metadata": {},
     "output_type": "display_data"
    }
   ],
   "source": [
    "housing_path = '/home/nero/Documents/Estudos/DataCamp/Data_Science_Professional_certification_study/Exam_DS101/datasets/'\n",
    "data = fetch_california_housing(data_home=housing_path, as_frame=True)\n",
    "data = pd.concat([data.data, data.target], axis=1)\n",
    "display(data.head(), data.shape, data.describe(), data.info())"
   ]
  },
  {
   "cell_type": "markdown",
   "metadata": {},
   "source": [
    "* Dividing the data into train,validation and test sets"
   ]
  },
  {
   "cell_type": "code",
   "execution_count": 4,
   "metadata": {},
   "outputs": [
    {
     "name": "stdout",
     "output_type": "stream",
     "text": [
      "Original shape\n"
     ]
    },
    {
     "data": {
      "text/plain": [
       "(20640, 9)"
      ]
     },
     "metadata": {},
     "output_type": "display_data"
    },
    {
     "name": "stdout",
     "output_type": "stream",
     "text": [
      "\n",
      "Training, Test and Validation shapes\n"
     ]
    },
    {
     "data": {
      "text/plain": [
       "(13209, 8)"
      ]
     },
     "metadata": {},
     "output_type": "display_data"
    },
    {
     "data": {
      "text/plain": [
       "(4128, 8)"
      ]
     },
     "metadata": {},
     "output_type": "display_data"
    },
    {
     "data": {
      "text/plain": [
       "(3303, 8)"
      ]
     },
     "metadata": {},
     "output_type": "display_data"
    }
   ],
   "source": [
    "X_train, X_test, y_train, y_test = train_test_split(data.iloc[:,:8], data.iloc[:,-1], test_size=0.20, random_state=42)\n",
    "\n",
    "X_train, X_val, y_train, y_val = train_test_split(X_train, y_train, test_size=0.20, random_state=42)\n",
    "\n",
    "print('Original shape')\n",
    "display(data.shape)\n",
    "print('\\nTraining, Test and Validation shapes')\n",
    "display(X_train.shape,X_test.shape,X_val.shape)"
   ]
  },
  {
   "cell_type": "markdown",
   "metadata": {},
   "source": [
    "* handling the scale of the data\n",
    "    - seeing that there is a big variation in the scale of the values we need to scale it to match the whole dataset\n",
    "    - training the scaler on training data"
   ]
  },
  {
   "cell_type": "code",
   "execution_count": 5,
   "metadata": {},
   "outputs": [],
   "source": [
    "scaler = preprocessing.StandardScaler()\n",
    "\n",
    "X_train_scaled = scaler.fit_transform(X_train)\n",
    "X_test_scaled = scaler.transform(X_test)\n",
    "X_val_scaled = scaler.transform(X_val)\n"
   ]
  },
  {
   "cell_type": "markdown",
   "metadata": {},
   "source": [
    "* Selecting Regresion models for comparison\n",
    "\n",
    "| Regressor | Description |\n",
    "|---|---|\n",
    "| LinearRegression | This is a simple linear regression model that minimizes the sum of squared errors. |\n",
    "| Ridge | This is a regularized linear regression model that penalizes the size of the coefficients. |\n",
    "| Lasso | This is another regularized linear regression model that penalizes the sum of the absolute values of the coefficients. |\n",
    "| ElasticNet | This is a hybrid of Ridge and Lasso that penalizes both the size and the sparsity of the coefficients. |\n",
    "| BayesianRidge | This is a Bayesian approach to linear regression that uses a Gaussian prior on the coefficients. |\n",
    "| HuberRegressor | This is a robust regression model that is less sensitive to outliers than linear regression. |\n",
    "| SVR | This is a support vector machine regressor that uses a kernel function to map the data to a higher-dimensional space. |\n",
    "| NuSVR | This is a non-parametric support vector machine regressor that does not require the user to specify a kernel function. |\n",
    "| LinearSVR | This is a linear support vector machine regressor that is a special case of SVR. |\n",
    "| RANSACRegressor | This is a robust regression model that fits a linear model to the inliers in the data and ignores the outliers. |\n",
    "| TheilSenRegressor | This is a robust regression model that fits a linear model to the data using Theil-Sen estimator. |\n",
    "| HuberRegressor | This is a robust regression model that fits a linear model to the data using Huber estimator. |\n",
    "| MLPRegressor | This is a multilayer perceptron regressor that is a neural network model for regression. |\n",
    "| RandomForestRegressor | This is a random forest regressor that is an ensemble of decision trees. |\n",
    "| GradientBoostingRegressor | This is a gradient boosting regressor that is an ensemble of decision trees that are trained sequentially. |\n",
    "| AdaBoostRegressor | This is an AdaBoost regressor that is an ensemble of decision trees that are trained sequentially with weights that are adjusted based on the performance of the trees. |\n",
    "| ExtraTreesRegressor | This is an extra trees regressor that is an ensemble of decision trees that are trained with random features. |\n",
    "| BaggingRegressor | This is a bagging regressor that is an ensemble of decision trees that are trained on bootstrap samples of the data. |\n"
   ]
  },
  {
   "cell_type": "markdown",
   "metadata": {},
   "source": [
    "* Given the amount of regressors avaliable, let's use a cross validation score method to evaluate all of the at once. (This is not a really viable method to always use, but given that it is an example let's find the best model for this dataset), Then optimize the best model later, and compare it to a keras neural network"
   ]
  },
  {
   "cell_type": "code",
   "execution_count": 6,
   "metadata": {},
   "outputs": [],
   "source": [
    "from sklearn.linear_model import LinearRegression, Ridge, Lasso, ElasticNet, BayesianRidge, HuberRegressor, RANSACRegressor, TheilSenRegressor, HuberRegressor\n",
    "from sklearn.svm import SVR, NuSVR, LinearSVR\n",
    "from sklearn.neural_network import MLPRegressor\n",
    "from sklearn.ensemble import RandomForestRegressor, GradientBoostingRegressor, AdaBoostRegressor, ExtraTreesRegressor\n",
    "from sklearn.ensemble import BaggingRegressor"
   ]
  },
  {
   "cell_type": "markdown",
   "metadata": {},
   "source": [
    "* Creating a dict with all model for crossvalidation"
   ]
  },
  {
   "cell_type": "code",
   "execution_count": 7,
   "metadata": {},
   "outputs": [
    {
     "name": "stdout",
     "output_type": "stream",
     "text": [
      "{'LinearRegression': LinearRegression(), 'Ridge': Ridge(max_iter=50000), 'Lasso': Lasso(max_iter=50000), 'ElasticNet': ElasticNet(max_iter=50000), 'BayesianRidge': BayesianRidge(), 'HuberRegressor': HuberRegressor(max_iter=50000), 'SVR': SVR(max_iter=50000), 'NuSVR': NuSVR(max_iter=50000), 'LinearSVR': LinearSVR(max_iter=50000), 'RANSACRegressor': RANSACRegressor(), 'TheilSenRegressor': TheilSenRegressor(max_iter=50000), 'MLPRegressor': MLPRegressor(max_iter=50000), 'RandomForestRegressor': RandomForestRegressor(), 'GradientBoostingRegressor': GradientBoostingRegressor(), 'AdaBoostRegressor': AdaBoostRegressor(), 'ExtraTreesRegressor': ExtraTreesRegressor(), 'BaggingRegressor': BaggingRegressor()}\n"
     ]
    }
   ],
   "source": [
    "models = {}\n",
    "n_iter = 50000\n",
    "# Add the regressors to the dict\n",
    "models[\"LinearRegression\"] = LinearRegression()\n",
    "models[\"Ridge\"] = Ridge(max_iter= n_iter)\n",
    "models[\"Lasso\"] = Lasso(max_iter= n_iter)\n",
    "models[\"ElasticNet\"] = ElasticNet(max_iter= n_iter)\n",
    "models[\"BayesianRidge\"] = BayesianRidge()\n",
    "models[\"HuberRegressor\"] = HuberRegressor(max_iter= n_iter)\n",
    "models[\"SVR\"] = SVR(max_iter= n_iter)\n",
    "models[\"NuSVR\"] = NuSVR(max_iter= n_iter)\n",
    "models[\"LinearSVR\"] = LinearSVR(max_iter= n_iter)\n",
    "models[\"RANSACRegressor\"] = RANSACRegressor()\n",
    "models[\"TheilSenRegressor\"] = TheilSenRegressor(max_iter= n_iter)\n",
    "models[\"HuberRegressor\"] = HuberRegressor(max_iter= n_iter)\n",
    "models[\"MLPRegressor\"] = MLPRegressor(max_iter= n_iter)\n",
    "models[\"RandomForestRegressor\"] = RandomForestRegressor()\n",
    "models[\"GradientBoostingRegressor\"] = GradientBoostingRegressor()\n",
    "models[\"AdaBoostRegressor\"] = AdaBoostRegressor()\n",
    "models[\"ExtraTreesRegressor\"] = ExtraTreesRegressor()\n",
    "models[\"BaggingRegressor\"] = BaggingRegressor()\n",
    "\n",
    "print(models)"
   ]
  },
  {
   "cell_type": "markdown",
   "metadata": {},
   "source": [
    "* load necessary modules for model evaluation and perform evaluation"
   ]
  },
  {
   "cell_type": "code",
   "execution_count": 8,
   "metadata": {},
   "outputs": [
    {
     "name": "stderr",
     "output_type": "stream",
     "text": [
      "[Parallel(n_jobs=-1)]: Using backend LokyBackend with 8 concurrent workers.\n",
      "[Parallel(n_jobs=-1)]: Done   6 out of  10 | elapsed:    5.7s remaining:    3.8s\n",
      "[Parallel(n_jobs=-1)]: Done  10 out of  10 | elapsed:    6.1s finished\n",
      "[Parallel(n_jobs=-1)]: Using backend LokyBackend with 8 concurrent workers.\n",
      "[Parallel(n_jobs=-1)]: Done   6 out of  10 | elapsed:    0.1s remaining:    0.1s\n",
      "[Parallel(n_jobs=-1)]: Done  10 out of  10 | elapsed:    0.1s finished\n",
      "[Parallel(n_jobs=-1)]: Using backend LokyBackend with 8 concurrent workers.\n",
      "[Parallel(n_jobs=-1)]: Done   6 out of  10 | elapsed:    0.1s remaining:    0.1s\n",
      "[Parallel(n_jobs=-1)]: Done  10 out of  10 | elapsed:    0.1s finished\n",
      "[Parallel(n_jobs=-1)]: Using backend LokyBackend with 8 concurrent workers.\n",
      "[Parallel(n_jobs=-1)]: Done   6 out of  10 | elapsed:    0.1s remaining:    0.1s\n",
      "[Parallel(n_jobs=-1)]: Done  10 out of  10 | elapsed:    0.1s finished\n",
      "[Parallel(n_jobs=-1)]: Using backend LokyBackend with 8 concurrent workers.\n",
      "[Parallel(n_jobs=-1)]: Done   6 out of  10 | elapsed:    0.1s remaining:    0.1s\n",
      "[Parallel(n_jobs=-1)]: Done  10 out of  10 | elapsed:    0.1s finished\n",
      "[Parallel(n_jobs=-1)]: Using backend LokyBackend with 8 concurrent workers.\n",
      "[Parallel(n_jobs=-1)]: Done   6 out of  10 | elapsed:    0.6s remaining:    0.4s\n",
      "[Parallel(n_jobs=-1)]: Done  10 out of  10 | elapsed:    0.7s finished\n",
      "[Parallel(n_jobs=-1)]: Using backend LokyBackend with 8 concurrent workers.\n",
      "[Parallel(n_jobs=-1)]: Done   6 out of  10 | elapsed:   37.0s remaining:   24.7s\n",
      "[Parallel(n_jobs=-1)]: Done  10 out of  10 | elapsed:   52.7s finished\n",
      "[Parallel(n_jobs=-1)]: Using backend LokyBackend with 8 concurrent workers.\n",
      "[Parallel(n_jobs=-1)]: Done   6 out of  10 | elapsed:   42.4s remaining:   28.3s\n",
      "[Parallel(n_jobs=-1)]: Done  10 out of  10 | elapsed:  1.0min finished\n",
      "[Parallel(n_jobs=-1)]: Using backend LokyBackend with 8 concurrent workers.\n",
      "[Parallel(n_jobs=-1)]: Done   6 out of  10 | elapsed:   16.4s remaining:   10.9s\n",
      "[Parallel(n_jobs=-1)]: Done  10 out of  10 | elapsed:   20.8s finished\n",
      "[Parallel(n_jobs=-1)]: Using backend LokyBackend with 8 concurrent workers.\n",
      "[Parallel(n_jobs=-1)]: Done   6 out of  10 | elapsed:    1.1s remaining:    0.8s\n",
      "[Parallel(n_jobs=-1)]: Done  10 out of  10 | elapsed:    1.4s finished\n",
      "[Parallel(n_jobs=-1)]: Using backend LokyBackend with 8 concurrent workers.\n",
      "/home/nero/Documents/Estudos/estudos/lib/python3.11/site-packages/joblib/externals/loky/process_executor.py:700: UserWarning: A worker stopped while some jobs were given to the executor. This can be caused by a too short worker timeout or by a memory leak.\n",
      "  warnings.warn(\n",
      "[Parallel(n_jobs=-1)]: Done   6 out of  10 | elapsed:   16.0s remaining:   10.6s\n",
      "[Parallel(n_jobs=-1)]: Done  10 out of  10 | elapsed:   24.8s finished\n",
      "[Parallel(n_jobs=-1)]: Using backend LokyBackend with 8 concurrent workers.\n",
      "[Parallel(n_jobs=-1)]: Done   6 out of  10 | elapsed:   46.6s remaining:   31.1s\n",
      "[Parallel(n_jobs=-1)]: Done  10 out of  10 | elapsed:  1.0min finished\n",
      "[Parallel(n_jobs=-1)]: Using backend LokyBackend with 8 concurrent workers.\n",
      "[Parallel(n_jobs=-1)]: Done   6 out of  10 | elapsed:   32.0s remaining:   21.3s\n",
      "[Parallel(n_jobs=-1)]: Done  10 out of  10 | elapsed:   47.9s finished\n",
      "[Parallel(n_jobs=-1)]: Using backend LokyBackend with 8 concurrent workers.\n",
      "[Parallel(n_jobs=-1)]: Done   6 out of  10 | elapsed:   12.4s remaining:    8.3s\n",
      "[Parallel(n_jobs=-1)]: Done  10 out of  10 | elapsed:   17.1s finished\n",
      "[Parallel(n_jobs=-1)]: Using backend LokyBackend with 8 concurrent workers.\n",
      "[Parallel(n_jobs=-1)]: Done   6 out of  10 | elapsed:    3.2s remaining:    2.1s\n",
      "[Parallel(n_jobs=-1)]: Done  10 out of  10 | elapsed:    4.5s finished\n",
      "[Parallel(n_jobs=-1)]: Using backend LokyBackend with 8 concurrent workers.\n",
      "[Parallel(n_jobs=-1)]: Done   6 out of  10 | elapsed:   11.8s remaining:    7.9s\n",
      "[Parallel(n_jobs=-1)]: Done  10 out of  10 | elapsed:   16.9s finished\n",
      "[Parallel(n_jobs=-1)]: Using backend LokyBackend with 8 concurrent workers.\n",
      "[Parallel(n_jobs=-1)]: Done   6 out of  10 | elapsed:    3.3s remaining:    2.2s\n",
      "[Parallel(n_jobs=-1)]: Done  10 out of  10 | elapsed:    4.7s finished\n"
     ]
    }
   ],
   "source": [
    "from sklearn.model_selection import cross_val_score, KFold\n",
    "\n",
    "kf = KFold(n_splits=10, random_state=42, shuffle=True)\n",
    "\n",
    "results = []\n",
    "for model in models.values():\n",
    "    cv_results = cross_val_score(model, X_train_scaled, y_train, cv=kf, n_jobs=-1, verbose=1)\n",
    "    results.append(cv_results)"
   ]
  },
  {
   "cell_type": "markdown",
   "metadata": {},
   "source": [
    "* Visualize results"
   ]
  },
  {
   "cell_type": "code",
   "execution_count": 9,
   "metadata": {},
   "outputs": [],
   "source": [
    "Results_df = pd.DataFrame(results).T"
   ]
  },
  {
   "cell_type": "code",
   "execution_count": 10,
   "metadata": {},
   "outputs": [
    {
     "data": {
      "text/plain": [
       "array([0.61071456, 0.57505204, 0.59537098, 0.64117596, 0.62320245,\n",
       "       0.61451269, 0.6268325 , 0.59617716, 0.61439969, 0.60981071])"
      ]
     },
     "execution_count": 10,
     "metadata": {},
     "output_type": "execute_result"
    }
   ],
   "source": [
    "results[0]"
   ]
  },
  {
   "cell_type": "code",
   "execution_count": 11,
   "metadata": {},
   "outputs": [
    {
     "data": {
      "text/html": [
       "<div>\n",
       "<style scoped>\n",
       "    .dataframe tbody tr th:only-of-type {\n",
       "        vertical-align: middle;\n",
       "    }\n",
       "\n",
       "    .dataframe tbody tr th {\n",
       "        vertical-align: top;\n",
       "    }\n",
       "\n",
       "    .dataframe thead th {\n",
       "        text-align: right;\n",
       "    }\n",
       "</style>\n",
       "<table border=\"1\" class=\"dataframe\">\n",
       "  <thead>\n",
       "    <tr style=\"text-align: right;\">\n",
       "      <th></th>\n",
       "      <th>LinearRegression</th>\n",
       "      <th>Ridge</th>\n",
       "      <th>Lasso</th>\n",
       "      <th>ElasticNet</th>\n",
       "      <th>BayesianRidge</th>\n",
       "      <th>HuberRegressor</th>\n",
       "      <th>SVR</th>\n",
       "      <th>NuSVR</th>\n",
       "      <th>LinearSVR</th>\n",
       "      <th>RANSACRegressor</th>\n",
       "      <th>TheilSenRegressor</th>\n",
       "      <th>MLPRegressor</th>\n",
       "      <th>RandomForestRegressor</th>\n",
       "      <th>GradientBoostingRegressor</th>\n",
       "      <th>AdaBoostRegressor</th>\n",
       "      <th>ExtraTreesRegressor</th>\n",
       "      <th>BaggingRegressor</th>\n",
       "    </tr>\n",
       "  </thead>\n",
       "  <tbody>\n",
       "    <tr>\n",
       "      <th>0</th>\n",
       "      <td>0.610715</td>\n",
       "      <td>0.610737</td>\n",
       "      <td>-0.000085</td>\n",
       "      <td>0.216187</td>\n",
       "      <td>0.610751</td>\n",
       "      <td>0.626707</td>\n",
       "      <td>0.767218</td>\n",
       "      <td>0.767224</td>\n",
       "      <td>0.626684</td>\n",
       "      <td>0.571453</td>\n",
       "      <td>0.506905</td>\n",
       "      <td>0.800251</td>\n",
       "      <td>0.825857</td>\n",
       "      <td>0.799093</td>\n",
       "      <td>0.408892</td>\n",
       "      <td>0.822483</td>\n",
       "      <td>0.795573</td>\n",
       "    </tr>\n",
       "    <tr>\n",
       "      <th>1</th>\n",
       "      <td>0.575052</td>\n",
       "      <td>0.575070</td>\n",
       "      <td>-0.000099</td>\n",
       "      <td>0.198205</td>\n",
       "      <td>0.575082</td>\n",
       "      <td>0.581451</td>\n",
       "      <td>0.724809</td>\n",
       "      <td>0.728432</td>\n",
       "      <td>0.577130</td>\n",
       "      <td>0.525572</td>\n",
       "      <td>0.572655</td>\n",
       "      <td>0.765557</td>\n",
       "      <td>0.792985</td>\n",
       "      <td>0.777233</td>\n",
       "      <td>0.488119</td>\n",
       "      <td>0.795586</td>\n",
       "      <td>0.759852</td>\n",
       "    </tr>\n",
       "    <tr>\n",
       "      <th>2</th>\n",
       "      <td>0.595371</td>\n",
       "      <td>0.595355</td>\n",
       "      <td>-0.000490</td>\n",
       "      <td>0.194707</td>\n",
       "      <td>0.595343</td>\n",
       "      <td>0.610809</td>\n",
       "      <td>0.718823</td>\n",
       "      <td>0.719536</td>\n",
       "      <td>0.609470</td>\n",
       "      <td>0.538906</td>\n",
       "      <td>0.618445</td>\n",
       "      <td>0.757623</td>\n",
       "      <td>0.790655</td>\n",
       "      <td>0.764788</td>\n",
       "      <td>0.417548</td>\n",
       "      <td>0.785223</td>\n",
       "      <td>0.763689</td>\n",
       "    </tr>\n",
       "    <tr>\n",
       "      <th>3</th>\n",
       "      <td>0.641176</td>\n",
       "      <td>0.641186</td>\n",
       "      <td>-0.000172</td>\n",
       "      <td>0.215609</td>\n",
       "      <td>0.641193</td>\n",
       "      <td>0.629511</td>\n",
       "      <td>0.750220</td>\n",
       "      <td>0.751741</td>\n",
       "      <td>0.617908</td>\n",
       "      <td>0.056775</td>\n",
       "      <td>0.331716</td>\n",
       "      <td>0.775499</td>\n",
       "      <td>0.811699</td>\n",
       "      <td>0.795607</td>\n",
       "      <td>0.395361</td>\n",
       "      <td>0.819900</td>\n",
       "      <td>0.788105</td>\n",
       "    </tr>\n",
       "    <tr>\n",
       "      <th>4</th>\n",
       "      <td>0.623202</td>\n",
       "      <td>0.623202</td>\n",
       "      <td>-0.000081</td>\n",
       "      <td>0.209238</td>\n",
       "      <td>0.623201</td>\n",
       "      <td>0.639301</td>\n",
       "      <td>0.760351</td>\n",
       "      <td>0.762366</td>\n",
       "      <td>0.638370</td>\n",
       "      <td>0.596936</td>\n",
       "      <td>0.635495</td>\n",
       "      <td>0.803838</td>\n",
       "      <td>0.814845</td>\n",
       "      <td>0.801725</td>\n",
       "      <td>0.513677</td>\n",
       "      <td>0.815827</td>\n",
       "      <td>0.785023</td>\n",
       "    </tr>\n",
       "    <tr>\n",
       "      <th>5</th>\n",
       "      <td>0.614513</td>\n",
       "      <td>0.614498</td>\n",
       "      <td>-0.000020</td>\n",
       "      <td>0.203771</td>\n",
       "      <td>0.614487</td>\n",
       "      <td>-3.623535</td>\n",
       "      <td>0.747510</td>\n",
       "      <td>0.749717</td>\n",
       "      <td>-3.677294</td>\n",
       "      <td>-2.822257</td>\n",
       "      <td>-16.837733</td>\n",
       "      <td>0.782443</td>\n",
       "      <td>0.803785</td>\n",
       "      <td>0.769973</td>\n",
       "      <td>0.458941</td>\n",
       "      <td>0.805422</td>\n",
       "      <td>0.782254</td>\n",
       "    </tr>\n",
       "    <tr>\n",
       "      <th>6</th>\n",
       "      <td>0.626832</td>\n",
       "      <td>0.626815</td>\n",
       "      <td>-0.001034</td>\n",
       "      <td>0.211119</td>\n",
       "      <td>0.626802</td>\n",
       "      <td>0.635970</td>\n",
       "      <td>0.749882</td>\n",
       "      <td>0.751124</td>\n",
       "      <td>0.632022</td>\n",
       "      <td>0.544541</td>\n",
       "      <td>0.536808</td>\n",
       "      <td>0.781863</td>\n",
       "      <td>0.806931</td>\n",
       "      <td>0.784595</td>\n",
       "      <td>0.527903</td>\n",
       "      <td>0.805923</td>\n",
       "      <td>0.783790</td>\n",
       "    </tr>\n",
       "    <tr>\n",
       "      <th>7</th>\n",
       "      <td>0.596177</td>\n",
       "      <td>0.596186</td>\n",
       "      <td>-0.000579</td>\n",
       "      <td>0.201424</td>\n",
       "      <td>0.596192</td>\n",
       "      <td>-6.008388</td>\n",
       "      <td>0.741953</td>\n",
       "      <td>0.743973</td>\n",
       "      <td>-6.135405</td>\n",
       "      <td>-0.750647</td>\n",
       "      <td>-28.019209</td>\n",
       "      <td>0.766975</td>\n",
       "      <td>0.798726</td>\n",
       "      <td>0.784535</td>\n",
       "      <td>0.533063</td>\n",
       "      <td>0.802372</td>\n",
       "      <td>0.780355</td>\n",
       "    </tr>\n",
       "    <tr>\n",
       "      <th>8</th>\n",
       "      <td>0.614400</td>\n",
       "      <td>0.614387</td>\n",
       "      <td>-0.000397</td>\n",
       "      <td>0.207378</td>\n",
       "      <td>0.614378</td>\n",
       "      <td>0.627784</td>\n",
       "      <td>0.739353</td>\n",
       "      <td>0.742703</td>\n",
       "      <td>0.626872</td>\n",
       "      <td>0.295679</td>\n",
       "      <td>0.621059</td>\n",
       "      <td>0.777000</td>\n",
       "      <td>0.796034</td>\n",
       "      <td>0.787901</td>\n",
       "      <td>0.476073</td>\n",
       "      <td>0.805027</td>\n",
       "      <td>0.778507</td>\n",
       "    </tr>\n",
       "    <tr>\n",
       "      <th>9</th>\n",
       "      <td>0.609811</td>\n",
       "      <td>0.609826</td>\n",
       "      <td>-0.001390</td>\n",
       "      <td>0.211958</td>\n",
       "      <td>0.609836</td>\n",
       "      <td>0.620847</td>\n",
       "      <td>0.744299</td>\n",
       "      <td>0.745645</td>\n",
       "      <td>0.616553</td>\n",
       "      <td>0.195631</td>\n",
       "      <td>0.511300</td>\n",
       "      <td>0.782643</td>\n",
       "      <td>0.798969</td>\n",
       "      <td>0.786163</td>\n",
       "      <td>0.365049</td>\n",
       "      <td>0.808998</td>\n",
       "      <td>0.774201</td>\n",
       "    </tr>\n",
       "  </tbody>\n",
       "</table>\n",
       "</div>"
      ],
      "text/plain": [
       "   LinearRegression     Ridge     Lasso  ElasticNet  BayesianRidge  \\\n",
       "0          0.610715  0.610737 -0.000085    0.216187       0.610751   \n",
       "1          0.575052  0.575070 -0.000099    0.198205       0.575082   \n",
       "2          0.595371  0.595355 -0.000490    0.194707       0.595343   \n",
       "3          0.641176  0.641186 -0.000172    0.215609       0.641193   \n",
       "4          0.623202  0.623202 -0.000081    0.209238       0.623201   \n",
       "5          0.614513  0.614498 -0.000020    0.203771       0.614487   \n",
       "6          0.626832  0.626815 -0.001034    0.211119       0.626802   \n",
       "7          0.596177  0.596186 -0.000579    0.201424       0.596192   \n",
       "8          0.614400  0.614387 -0.000397    0.207378       0.614378   \n",
       "9          0.609811  0.609826 -0.001390    0.211958       0.609836   \n",
       "\n",
       "   HuberRegressor       SVR     NuSVR  LinearSVR  RANSACRegressor  \\\n",
       "0        0.626707  0.767218  0.767224   0.626684         0.571453   \n",
       "1        0.581451  0.724809  0.728432   0.577130         0.525572   \n",
       "2        0.610809  0.718823  0.719536   0.609470         0.538906   \n",
       "3        0.629511  0.750220  0.751741   0.617908         0.056775   \n",
       "4        0.639301  0.760351  0.762366   0.638370         0.596936   \n",
       "5       -3.623535  0.747510  0.749717  -3.677294        -2.822257   \n",
       "6        0.635970  0.749882  0.751124   0.632022         0.544541   \n",
       "7       -6.008388  0.741953  0.743973  -6.135405        -0.750647   \n",
       "8        0.627784  0.739353  0.742703   0.626872         0.295679   \n",
       "9        0.620847  0.744299  0.745645   0.616553         0.195631   \n",
       "\n",
       "   TheilSenRegressor  MLPRegressor  RandomForestRegressor  \\\n",
       "0           0.506905      0.800251               0.825857   \n",
       "1           0.572655      0.765557               0.792985   \n",
       "2           0.618445      0.757623               0.790655   \n",
       "3           0.331716      0.775499               0.811699   \n",
       "4           0.635495      0.803838               0.814845   \n",
       "5         -16.837733      0.782443               0.803785   \n",
       "6           0.536808      0.781863               0.806931   \n",
       "7         -28.019209      0.766975               0.798726   \n",
       "8           0.621059      0.777000               0.796034   \n",
       "9           0.511300      0.782643               0.798969   \n",
       "\n",
       "   GradientBoostingRegressor  AdaBoostRegressor  ExtraTreesRegressor  \\\n",
       "0                   0.799093           0.408892             0.822483   \n",
       "1                   0.777233           0.488119             0.795586   \n",
       "2                   0.764788           0.417548             0.785223   \n",
       "3                   0.795607           0.395361             0.819900   \n",
       "4                   0.801725           0.513677             0.815827   \n",
       "5                   0.769973           0.458941             0.805422   \n",
       "6                   0.784595           0.527903             0.805923   \n",
       "7                   0.784535           0.533063             0.802372   \n",
       "8                   0.787901           0.476073             0.805027   \n",
       "9                   0.786163           0.365049             0.808998   \n",
       "\n",
       "   BaggingRegressor  \n",
       "0          0.795573  \n",
       "1          0.759852  \n",
       "2          0.763689  \n",
       "3          0.788105  \n",
       "4          0.785023  \n",
       "5          0.782254  \n",
       "6          0.783790  \n",
       "7          0.780355  \n",
       "8          0.778507  \n",
       "9          0.774201  "
      ]
     },
     "execution_count": 11,
     "metadata": {},
     "output_type": "execute_result"
    }
   ],
   "source": [
    "Results_df.columns = models.keys()\n",
    "Results_df"
   ]
  },
  {
   "cell_type": "markdown",
   "metadata": {},
   "source": [
    "* Visualize the boxplots of the top 5 models"
   ]
  },
  {
   "cell_type": "code",
   "execution_count": 12,
   "metadata": {},
   "outputs": [
    {
     "data": {
      "text/plain": [
       "ExtraTreesRegressor          0.806676\n",
       "RandomForestRegressor        0.804049\n",
       "GradientBoostingRegressor    0.785161\n",
       "MLPRegressor                 0.779369\n",
       "BaggingRegressor             0.779135\n",
       "dtype: float64"
      ]
     },
     "execution_count": 12,
     "metadata": {},
     "output_type": "execute_result"
    }
   ],
   "source": [
    "Results_df.mean(axis=0).sort_values(ascending=False)[:5]"
   ]
  },
  {
   "cell_type": "code",
   "execution_count": 13,
   "metadata": {},
   "outputs": [
    {
     "data": {
      "text/plain": [
       "SVR                          0.744442\n",
       "NuSVR                        0.746246\n",
       "MLPRegressor                 0.779369\n",
       "RandomForestRegressor        0.804049\n",
       "GradientBoostingRegressor    0.785161\n",
       "ExtraTreesRegressor          0.806676\n",
       "BaggingRegressor             0.779135\n",
       "dtype: float64"
      ]
     },
     "execution_count": 13,
     "metadata": {},
     "output_type": "execute_result"
    }
   ],
   "source": [
    "Results_df.mean()[Results_df.mean() > 0.7]"
   ]
  },
  {
   "cell_type": "code",
   "execution_count": 14,
   "metadata": {},
   "outputs": [
    {
     "data": {
      "image/png": "[encoded data removed]",
      "text/plain": [
       "<Figure size 640x480 with 1 Axes>"
      ]
     },
     "metadata": {},
     "output_type": "display_data"
    }
   ],
   "source": [
    "plt.boxplot(Results_df[['ExtraTreesRegressor', 'RandomForestRegressor', 'GradientBoostingRegressor','BaggingRegressor', 'MLPRegressor']], labels=['ExtraTreesRegressor', 'RandomForestRegressor', 'GradientBoostingRegressor','BaggingRegressor', 'MLPRegressor'])\n",
    "plt.xticks(rotation = 90)\n",
    "plt.show()"
   ]
  },
  {
   "cell_type": "markdown",
   "metadata": {},
   "source": [
    "* The random forest regressor seems to be the best model for this dataset, as it has higher minimum and maximum values than the others, even though it has more variance."
   ]
  },
  {
   "cell_type": "markdown",
   "metadata": {},
   "source": [
    "* Optimize the RandomForestRegressor model"
   ]
  },
  {
   "cell_type": "code",
   "execution_count": 15,
   "metadata": {},
   "outputs": [
    {
     "data": {
      "text/plain": [
       "'from sklearn.model_selection import RandomizedSearchCV\\n\\nrfr = RandomForestRegressor()\\n\\nparam_grid = {\\n    \"n_estimators\": np.arange(100, 200, 20),\\n    \"max_depth\": np.arange(3, 15, 1),\\n    \"min_samples_split\": np.arange(2, 10, 1),\\n    \"min_samples_leaf\": np.arange(1, 8, 1),\\n    \"min_weight_fraction_leaf\": np.arange(0.01, 0.5, 0.01),\\n    \"bootstrap\": [True],\\n    \"criterion\":[\\'squared_error\\', \\'absolute_error\\']\\n}\\ncv = RandomizedSearchCV(rfr, param_distributions=param_grid, cv = kf, n_jobs=-1, verbose=1, refit=True, n_iter=40)\\n\\ncv.fit(X_train_scaled, y_train)'"
      ]
     },
     "execution_count": 15,
     "metadata": {},
     "output_type": "execute_result"
    }
   ],
   "source": [
    "\"\"\"from sklearn.model_selection import RandomizedSearchCV\n",
    "\n",
    "rfr = RandomForestRegressor()\n",
    "\n",
    "param_grid = {\n",
    "    \"n_estimators\": np.arange(100, 200, 20),\n",
    "    \"max_depth\": np.arange(3, 15, 1),\n",
    "    \"min_samples_split\": np.arange(2, 10, 1),\n",
    "    \"min_samples_leaf\": np.arange(1, 8, 1),\n",
    "    \"min_weight_fraction_leaf\": np.arange(0.01, 0.5, 0.01),\n",
    "    \"bootstrap\": [True],\n",
    "    \"criterion\":['squared_error', 'absolute_error']\n",
    "}\n",
    "cv = RandomizedSearchCV(rfr, param_distributions=param_grid, cv = kf, n_jobs=-1, verbose=1, refit=True, n_iter=40)\n",
    "\n",
    "cv.fit(X_train_scaled, y_train)\"\"\""
   ]
  },
  {
   "cell_type": "code",
   "execution_count": 18,
   "metadata": {},
   "outputs": [
    {
     "data": {
      "text/html": [
       "<style>#sk-container-id-2 {color: black;background-color: white;}#sk-container-id-2 pre{padding: 0;}#sk-container-id-2 div.sk-toggleable {background-color: white;}#sk-container-id-2 label.sk-toggleable__label {cursor: pointer;display: block;width: 100%;margin-bottom: 0;padding: 0.3em;box-sizing: border-box;text-align: center;}#sk-container-id-2 label.sk-toggleable__label-arrow:before {content: \"▸\";float: left;margin-right: 0.25em;color: #696969;}#sk-container-id-2 label.sk-toggleable__label-arrow:hover:before {color: black;}#sk-container-id-2 div.sk-estimator:hover label.sk-toggleable__label-arrow:before {color: black;}#sk-container-id-2 div.sk-toggleable__content {max-height: 0;max-width: 0;overflow: hidden;text-align: left;background-color: #f0f8ff;}#sk-container-id-2 div.sk-toggleable__content pre {margin: 0.2em;color: black;border-radius: 0.25em;background-color: #f0f8ff;}#sk-container-id-2 input.sk-toggleable__control:checked~div.sk-toggleable__content {max-height: 200px;max-width: 100%;overflow: auto;}#sk-container-id-2 input.sk-toggleable__control:checked~label.sk-toggleable__label-arrow:before {content: \"▾\";}#sk-container-id-2 div.sk-estimator input.sk-toggleable__control:checked~label.sk-toggleable__label {background-color: #d4ebff;}#sk-container-id-2 div.sk-label input.sk-toggleable__control:checked~label.sk-toggleable__label {background-color: #d4ebff;}#sk-container-id-2 input.sk-hidden--visually {border: 0;clip: rect(1px 1px 1px 1px);clip: rect(1px, 1px, 1px, 1px);height: 1px;margin: -1px;overflow: hidden;padding: 0;position: absolute;width: 1px;}#sk-container-id-2 div.sk-estimator {font-family: monospace;background-color: #f0f8ff;border: 1px dotted black;border-radius: 0.25em;box-sizing: border-box;margin-bottom: 0.5em;}#sk-container-id-2 div.sk-estimator:hover {background-color: #d4ebff;}#sk-container-id-2 div.sk-parallel-item::after {content: \"\";width: 100%;border-bottom: 1px solid gray;flex-grow: 1;}#sk-container-id-2 div.sk-label:hover label.sk-toggleable__label {background-color: #d4ebff;}#sk-container-id-2 div.sk-serial::before {content: \"\";position: absolute;border-left: 1px solid gray;box-sizing: border-box;top: 0;bottom: 0;left: 50%;z-index: 0;}#sk-container-id-2 div.sk-serial {display: flex;flex-direction: column;align-items: center;background-color: white;padding-right: 0.2em;padding-left: 0.2em;position: relative;}#sk-container-id-2 div.sk-item {position: relative;z-index: 1;}#sk-container-id-2 div.sk-parallel {display: flex;align-items: stretch;justify-content: center;background-color: white;position: relative;}#sk-container-id-2 div.sk-item::before, #sk-container-id-2 div.sk-parallel-item::before {content: \"\";position: absolute;border-left: 1px solid gray;box-sizing: border-box;top: 0;bottom: 0;left: 50%;z-index: -1;}#sk-container-id-2 div.sk-parallel-item {display: flex;flex-direction: column;z-index: 1;position: relative;background-color: white;}#sk-container-id-2 div.sk-parallel-item:first-child::after {align-self: flex-end;width: 50%;}#sk-container-id-2 div.sk-parallel-item:last-child::after {align-self: flex-start;width: 50%;}#sk-container-id-2 div.sk-parallel-item:only-child::after {width: 0;}#sk-container-id-2 div.sk-dashed-wrapped {border: 1px dashed gray;margin: 0 0.4em 0.5em 0.4em;box-sizing: border-box;padding-bottom: 0.4em;background-color: white;}#sk-container-id-2 div.sk-label label {font-family: monospace;font-weight: bold;display: inline-block;line-height: 1.2em;}#sk-container-id-2 div.sk-label-container {text-align: center;}#sk-container-id-2 div.sk-container {/* jupyter's `normalize.less` sets `[hidden] { display: none; }` but bootstrap.min.css set `[hidden] { display: none !important; }` so we also need the `!important` here to be able to override the default hidden behavior on the sphinx rendered scikit-learn.org. See: https://github.com/scikit-learn/scikit-learn/issues/21755 */display: inline-block !important;position: relative;}#sk-container-id-2 div.sk-text-repr-fallback {display: none;}</style><div id=\"sk-container-id-2\" class=\"sk-top-container\"><div class=\"sk-text-repr-fallback\"><pre>RandomForestRegressor(max_depth=9, min_samples_leaf=3, min_samples_split=3,\n",
       "                      min_weight_fraction_leaf=0.02, n_estimators=160)</pre><b>In a Jupyter environment, please rerun this cell to show the HTML representation or trust the notebook. <br />On GitHub, the HTML representation is unable to render, please try loading this page with nbviewer.org.</b></div><div class=\"sk-container\" hidden><div class=\"sk-item\"><div class=\"sk-estimator sk-toggleable\"><input class=\"sk-toggleable__control sk-hidden--visually\" id=\"sk-estimator-id-2\" type=\"checkbox\" checked><label for=\"sk-estimator-id-2\" class=\"sk-toggleable__label sk-toggleable__label-arrow\">RandomForestRegressor</label><div class=\"sk-toggleable__content\"><pre>RandomForestRegressor(max_depth=9, min_samples_leaf=3, min_samples_split=3,\n",
       "                      min_weight_fraction_leaf=0.02, n_estimators=160)</pre></div></div></div></div></div>"
      ],
      "text/plain": [
       "RandomForestRegressor(max_depth=9, min_samples_leaf=3, min_samples_split=3,\n",
       "                      min_weight_fraction_leaf=0.02, n_estimators=160)"
      ]
     },
     "execution_count": 18,
     "metadata": {},
     "output_type": "execute_result"
    }
   ],
   "source": [
    "# the best params found are\n",
    "\n",
    "best_params = {'n_estimators': 160,\n",
    " 'min_weight_fraction_leaf': 0.02,\n",
    " 'min_samples_split': 3,\n",
    " 'min_samples_leaf': 3,\n",
    " 'max_depth': 9,\n",
    " 'criterion': 'squared_error',\n",
    " 'bootstrap': True}\n",
    "\n",
    "# recreating model\n",
    "\n",
    "rfr = RandomForestRegressor()\n",
    "rfr.set_params(**best_params)\n",
    "\n",
    "rfr.fit(X_train_scaled, y_train)"
   ]
  },
  {
   "cell_type": "markdown",
   "metadata": {},
   "source": [
    "# Creating a comparison model using deep learning with tensorflow"
   ]
  },
  {
   "cell_type": "markdown",
   "metadata": {},
   "source": [
    "* Import modules"
   ]
  },
  {
   "cell_type": "code",
   "execution_count": 24,
   "metadata": {},
   "outputs": [],
   "source": [
    "import tensorflow as tf\n",
    "from tensorflow import keras\n",
    "from tensorflow.keras import layers\n",
    "from tensorflow.keras.models import Sequential"
   ]
  },
  {
   "cell_type": "code",
   "execution_count": 65,
   "metadata": {},
   "outputs": [
    {
     "data": {
      "text/plain": [
       "((20640, 9), (13209, 8), (13209,))"
      ]
     },
     "execution_count": 65,
     "metadata": {},
     "output_type": "execute_result"
    }
   ],
   "source": [
    "data.shape, X_train.shape, y_train.shape"
   ]
  },
  {
   "cell_type": "markdown",
   "metadata": {},
   "source": [
    "* create a sequential model"
   ]
  },
  {
   "cell_type": "code",
   "execution_count": 94,
   "metadata": {},
   "outputs": [],
   "source": [
    "model = Sequential(\n",
    "    [   \n",
    "        layers.Input(shape=(8)),\n",
    "        layers.BatchNormalization(),\n",
    "        layers.Dense(32, activation='relu'),\n",
    "        layers.Dense(16, activation='relu'),\n",
    "        layers.Dense(8, activation='relu'),\n",
    "        layers.Dropout(0.25),\n",
    "        layers.BatchNormalization(),\n",
    "        layers.Dense(1, activation='relu')\n",
    "    ]\n",
    ")\n",
    "\n",
    "\n"
   ]
  },
  {
   "cell_type": "code",
   "execution_count": 95,
   "metadata": {},
   "outputs": [],
   "source": [
    "model.compile(optimizer='rmsprop', loss=\"mse\", metrics=[\"mae\"])"
   ]
  },
  {
   "cell_type": "code",
   "execution_count": 96,
   "metadata": {},
   "outputs": [
    {
     "name": "stdout",
     "output_type": "stream",
     "text": [
      "Model: \"sequential_14\"\n",
      "_________________________________________________________________\n",
      " Layer (type)                Output Shape              Param #   \n",
      "=================================================================\n",
      " batch_normalization_15 (Bat  (None, 8)                32        \n",
      " chNormalization)                                                \n",
      "                                                                 \n",
      " dense_36 (Dense)            (None, 32)                288       \n",
      "                                                                 \n",
      " dense_37 (Dense)            (None, 16)                528       \n",
      "                                                                 \n",
      " dense_38 (Dense)            (None, 8)                 136       \n",
      "                                                                 \n",
      " dropout_8 (Dropout)         (None, 8)                 0         \n",
      "                                                                 \n",
      " batch_normalization_16 (Bat  (None, 8)                32        \n",
      " chNormalization)                                                \n",
      "                                                                 \n",
      " dense_39 (Dense)            (None, 1)                 9         \n",
      "                                                                 \n",
      "=================================================================\n",
      "Total params: 1,025\n",
      "Trainable params: 993\n",
      "Non-trainable params: 32\n",
      "_________________________________________________________________\n"
     ]
    }
   ],
   "source": [
    "model.summary()"
   ]
  },
  {
   "cell_type": "markdown",
   "metadata": {},
   "source": [
    "* set early stopping"
   ]
  },
  {
   "cell_type": "code",
   "execution_count": 97,
   "metadata": {},
   "outputs": [],
   "source": [
    "early_stop = keras.callbacks.EarlyStopping(monitor = 'val_loss',patience = 10)"
   ]
  },
  {
   "cell_type": "code",
   "execution_count": 98,
   "metadata": {},
   "outputs": [
    {
     "name": "stdout",
     "output_type": "stream",
     "text": [
      "Epoch 1/100\n",
      "133/133 [==============================] - 4s 10ms/step - loss: 2.7180 - mae: 1.3636 - val_loss: 5.0400 - val_mae: 1.9723\n",
      "Epoch 2/100\n",
      "133/133 [==============================] - 1s 7ms/step - loss: 1.6418 - mae: 1.0297 - val_loss: 0.9102 - val_mae: 0.7501\n",
      "Epoch 3/100\n",
      "133/133 [==============================] - 1s 6ms/step - loss: 1.0146 - mae: 0.7832 - val_loss: 0.6799 - val_mae: 0.6340\n",
      "Epoch 4/100\n",
      "133/133 [==============================] - 1s 7ms/step - loss: 0.7008 - mae: 0.6232 - val_loss: 0.6039 - val_mae: 0.5783\n",
      "Epoch 5/100\n",
      "133/133 [==============================] - 1s 6ms/step - loss: 0.6030 - mae: 0.5704 - val_loss: 0.5687 - val_mae: 0.5514\n",
      "Epoch 6/100\n",
      "133/133 [==============================] - 1s 7ms/step - loss: 0.5328 - mae: 0.5286 - val_loss: 0.5130 - val_mae: 0.5256\n",
      "Epoch 7/100\n",
      "133/133 [==============================] - 1s 7ms/step - loss: 0.5115 - mae: 0.5145 - val_loss: 0.5356 - val_mae: 0.5161\n",
      "Epoch 8/100\n",
      "133/133 [==============================] - 1s 7ms/step - loss: 0.4905 - mae: 0.5052 - val_loss: 0.4947 - val_mae: 0.4929\n",
      "Epoch 9/100\n",
      "133/133 [==============================] - 1s 7ms/step - loss: 0.4747 - mae: 0.4959 - val_loss: 0.5029 - val_mae: 0.4992\n",
      "Epoch 10/100\n",
      "133/133 [==============================] - 1s 6ms/step - loss: 0.4680 - mae: 0.4915 - val_loss: 0.5100 - val_mae: 0.4945\n",
      "Epoch 11/100\n",
      "133/133 [==============================] - 1s 8ms/step - loss: 0.4672 - mae: 0.4888 - val_loss: 0.5973 - val_mae: 0.5225\n",
      "Epoch 12/100\n",
      "133/133 [==============================] - 1s 6ms/step - loss: 0.4694 - mae: 0.4898 - val_loss: 0.4851 - val_mae: 0.4772\n",
      "Epoch 13/100\n",
      "133/133 [==============================] - 1s 8ms/step - loss: 0.4574 - mae: 0.4856 - val_loss: 0.4840 - val_mae: 0.4923\n",
      "Epoch 14/100\n",
      "133/133 [==============================] - 1s 7ms/step - loss: 0.4518 - mae: 0.4819 - val_loss: 0.4991 - val_mae: 0.4946\n",
      "Epoch 15/100\n",
      "133/133 [==============================] - 1s 6ms/step - loss: 0.4580 - mae: 0.4826 - val_loss: 0.4840 - val_mae: 0.4948\n",
      "Epoch 16/100\n",
      "133/133 [==============================] - 1s 6ms/step - loss: 0.4518 - mae: 0.4847 - val_loss: 0.4574 - val_mae: 0.4808\n",
      "Epoch 17/100\n",
      "133/133 [==============================] - 1s 6ms/step - loss: 0.4470 - mae: 0.4773 - val_loss: 0.4706 - val_mae: 0.4741\n",
      "Epoch 18/100\n",
      "133/133 [==============================] - 1s 6ms/step - loss: 0.4571 - mae: 0.4822 - val_loss: 0.4655 - val_mae: 0.4796\n",
      "Epoch 19/100\n",
      "133/133 [==============================] - 1s 6ms/step - loss: 0.4461 - mae: 0.4751 - val_loss: 0.4982 - val_mae: 0.4889\n",
      "Epoch 20/100\n",
      "133/133 [==============================] - 1s 6ms/step - loss: 0.4467 - mae: 0.4765 - val_loss: 0.4949 - val_mae: 0.4817\n",
      "Epoch 21/100\n",
      "133/133 [==============================] - 1s 6ms/step - loss: 0.4463 - mae: 0.4765 - val_loss: 0.4693 - val_mae: 0.4792\n",
      "Epoch 22/100\n",
      "133/133 [==============================] - 1s 7ms/step - loss: 0.4492 - mae: 0.4785 - val_loss: 0.5130 - val_mae: 0.4790\n",
      "Epoch 23/100\n",
      "133/133 [==============================] - 1s 6ms/step - loss: 0.4372 - mae: 0.4728 - val_loss: 0.5132 - val_mae: 0.4864\n",
      "Epoch 24/100\n",
      "133/133 [==============================] - 1s 6ms/step - loss: 0.4366 - mae: 0.4733 - val_loss: 0.4738 - val_mae: 0.4733\n",
      "Epoch 25/100\n",
      "133/133 [==============================] - 1s 6ms/step - loss: 0.4326 - mae: 0.4714 - val_loss: 0.4728 - val_mae: 0.4806\n",
      "Epoch 26/100\n",
      "133/133 [==============================] - 1s 6ms/step - loss: 0.4397 - mae: 0.4743 - val_loss: 0.4742 - val_mae: 0.4685\n"
     ]
    }
   ],
   "source": [
    "history = model.fit(X_train, y_train, validation_data=(X_val, y_val), epochs=100, batch_size=100, callbacks=[early_stop])"
   ]
  },
  {
   "cell_type": "code",
   "execution_count": 99,
   "metadata": {},
   "outputs": [
    {
     "data": {
      "image/png": "[encoded data removed]",
      "text/plain": [
       "<Figure size 800x800 with 2 Axes>"
      ]
     },
     "metadata": {},
     "output_type": "display_data"
    }
   ],
   "source": [
    "acc = history.history['mae']\n",
    "val_acc = history.history['val_mae']\n",
    "\n",
    "loss = history.history['loss']\n",
    "val_loss = history.history['val_loss']\n",
    "\n",
    "epochs_range = range(len(history.history['mae']))\n",
    "\n",
    "plt.figure(figsize=(8, 8))\n",
    "plt.subplot(1, 2, 1)\n",
    "plt.plot(epochs_range, acc, label='Training mae')\n",
    "plt.plot(epochs_range, val_acc, label='Validation mae')\n",
    "plt.legend(loc='lower right')\n",
    "plt.title('Training and Validation mae')\n",
    "\n",
    "plt.subplot(1, 2, 2)\n",
    "plt.plot(epochs_range, loss, label='Training Loss')\n",
    "plt.plot(epochs_range, val_loss, label='Validation Loss')\n",
    "plt.legend(loc='upper right')\n",
    "plt.title('Training and Validation Loss')\n",
    "plt.show()\n"
   ]
  },
  {
   "cell_type": "markdown",
   "metadata": {},
   "source": [
    "# Evaluating both models"
   ]
  },
  {
   "cell_type": "code",
   "execution_count": 101,
   "metadata": {},
   "outputs": [
    {
     "name": "stdout",
     "output_type": "stream",
     "text": [
      "Random Forest Regressor\n",
      "R2 score: 0.662471625634023\n",
      "mae score: 0.4710739640227413\n",
      "mae perc score: 0.2824659079433176\n",
      "\n",
      "129/129 [==============================] - 1s 4ms/step\n",
      "Deep learning model\n",
      "R2 score: 0.6547826070891611\n",
      "mae score: 0.46165741198977756\n",
      "mae perc score: 0.2576847036599611\n"
     ]
    }
   ],
   "source": [
    "# RandomForestRegressor\n",
    "rfr_preds = rfr.predict(X_test_scaled)\n",
    "print('Random Forest Regressor')\n",
    "# scores other than the .score() method\n",
    "from sklearn import metrics\n",
    "\n",
    "R2_score = metrics.r2_score(y_test, rfr_preds)\n",
    "print(f'R2 score: {R2_score}')\n",
    "\n",
    "mae_score = metrics.mean_absolute_error(y_test, rfr_preds)\n",
    "print(f'mae score: {mae_score}')\n",
    "\n",
    "mae_perc_score = metrics.mean_absolute_percentage_error(y_test, rfr_preds)\n",
    "print(f'mae perc score: {mae_perc_score}\\n')\n",
    "\n",
    "\n",
    "# Deep learning model\n",
    "deep_preds = model.predict(X_test)\n",
    "print('Deep learning model')\n",
    "R2_score = metrics.r2_score(y_test, deep_preds)\n",
    "print(f'R2 score: {R2_score}')\n",
    "\n",
    "mae_score = metrics.mean_absolute_error(y_test, deep_preds)\n",
    "print(f'mae score: {mae_score}')\n",
    "\n",
    "mae_perc_score = metrics.mean_absolute_percentage_error(y_test, deep_preds)\n",
    "print(f'mae perc score: {mae_perc_score}')"
   ]
  },
  {
   "cell_type": "markdown",
   "metadata": {},
   "source": [
    "# Conclusion"
   ]
  },
  {
   "cell_type": "markdown",
   "metadata": {},
   "source": [
    "## Conclusion\n",
    "\n",
    "Two models were created using the boson housing dataset provided by sklearn with shape (20640, 9). The models were a Random Forest Regressor and a deep learning model. The following scores were obtained:\n",
    "\n",
    "| Model | R2 score | MAE score | MAE perc score |\n",
    "|---|---|---|---|\n",
    "| Random Forest Regressor | 0.662471625634023 | 0.4710739640227413 | 0.2824659079433176 |\n",
    "| Deep learning model | 0.6547826070891611 | 0.46165741198977756 | 0.2576847036599611 |\n",
    "\n",
    "The deep learning model had a slightly lower R2 score than the Random Forest Regressor, but a slightly lower MAE score. This suggests that the deep learning model may be slightly more accurate, but it is also less robust to noise.\n",
    "\n",
    "The deep learning model required less preprocessing than the Random Forest Regressor, but it took longer to train. The deep learning model also requires a larger dataset to achieve its best performance.\n",
    "\n",
    "The Random Forest Regressor required more preprocessing, but it was faster to train. The Random Forest Regressor can also be more accurate if the best parameters are found using a grid search, but this can be time-consuming.\n",
    "\n",
    "**Overall, the deep learning model is a good choice if you have a large dataset and you are willing to wait for it to train. The Random Forest Regressor is a good choice if you have a smaller dataset and you need to train the model quickly.**\n"
   ]
  }
 ],
 "metadata": {
  "kernelspec": {
   "display_name": "estudos",
   "language": "python",
   "name": "python3"
  },
  "language_info": {
   "codemirror_mode": {
    "name": "ipython",
    "version": 3
   },
   "file_extension": ".py",
   "mimetype": "text/x-python",
   "name": "python",
   "nbconvert_exporter": "python",
   "pygments_lexer": "ipython3",
   "version": "3.11.3"
  },
  "orig_nbformat": 4
 },
 "nbformat": 4,
 "nbformat_minor": 2
}
